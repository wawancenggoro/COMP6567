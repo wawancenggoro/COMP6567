{
  "nbformat": 4,
  "nbformat_minor": 0,
  "metadata": {
    "kernelspec": {
      "display_name": "Python 3",
      "language": "python",
      "name": "python3"
    },
    "language_info": {
      "codemirror_mode": {
        "name": "ipython",
        "version": 3
      },
      "file_extension": ".py",
      "mimetype": "text/x-python",
      "name": "python",
      "nbconvert_exporter": "python",
      "pygments_lexer": "ipython3",
      "version": "3.6.9"
    },
    "colab": {
      "name": "Pert 7-Copy1.ipynb",
      "provenance": []
    },
    "accelerator": "GPU"
  },
  "cells": [
    {
      "cell_type": "code",
      "metadata": {
        "id": "Rhg4bLideG62"
      },
      "source": [
        "# only run this in google colab to upload data\n",
        "from google.colab import files\n",
        "\n",
        "uploaded = files.upload()\n",
        "\n",
        "for fn in uploaded.keys():\n",
        "  print('User uploaded file \"{name}\" with length {length} bytes'.format(\n",
        "      name=fn, length=len(uploaded[fn])))"
      ],
      "execution_count": null,
      "outputs": []
    },
    {
      "cell_type": "code",
      "metadata": {
        "id": "94h2IroAeG7F"
      },
      "source": [
        "!unzip data.zip"
      ],
      "execution_count": null,
      "outputs": []
    },
    {
      "cell_type": "code",
      "metadata": {
        "id": "u9OrSJz6eG7V"
      },
      "source": [
        "# adopted from https://pytorch.org/tutorials/beginner/transfer_learning_tutorial.html\n",
        "from __future__ import print_function, division\n",
        "\n",
        "import torch\n",
        "import torch.nn as nn\n",
        "import torch.optim as optim\n",
        "from torch.optim import lr_scheduler\n",
        "import numpy as np\n",
        "import torchvision\n",
        "from torchvision import datasets, models, transforms\n",
        "import matplotlib.pyplot as plt\n",
        "import time\n",
        "import os\n",
        "import copy\n",
        "import numpy as np\n",
        "\n",
        "plt.ion()   # interactive mode\n",
        "np.random.seed(1234)\n",
        "torch.manual_seed(1234)"
      ],
      "execution_count": null,
      "outputs": []
    },
    {
      "cell_type": "code",
      "metadata": {
        "id": "2Sths7KFeG7g"
      },
      "source": [
        "# Data Preprocessing\n",
        "train_transform =  transforms.Compose([\n",
        "        transforms.Resize(256),\n",
        "        # image resizing + data augmentation\n",
        "        transforms.RandomResizedCrop(224),         \n",
        "        # data augmentation\n",
        "        transforms.RandomHorizontalFlip(),         \n",
        "        # convert image to PyTorch Tensor\n",
        "        transforms.ToTensor(),    \n",
        "        # z score normalization\n",
        "        transforms.Normalize([0.485, 0.456, 0.406], [0.229, 0.224, 0.225]) \n",
        "    ])\n",
        "\n",
        "val_test_transform = transforms.Compose([\n",
        "        transforms.Resize(256),\n",
        "        transforms.CenterCrop(224),\n",
        "        transforms.ToTensor(),\n",
        "        transforms.Normalize([0.485, 0.456, 0.406], [0.229, 0.224, 0.225])\n",
        "    ])"
      ],
      "execution_count": null,
      "outputs": []
    },
    {
      "cell_type": "code",
      "metadata": {
        "id": "9rgLdMt4eG7n"
      },
      "source": [
        "data_dir = 'data/hymenoptera_data'\n",
        "\n",
        "train_dataset = datasets.ImageFolder(os.path.join(data_dir, 'train'), train_transform)\n",
        "valid_dataset = datasets.ImageFolder(os.path.join(data_dir, 'val'), val_test_transform)\n",
        "test_dataset = datasets.ImageFolder(os.path.join(data_dir, 'test'), val_test_transform)\n",
        "\n",
        "train_loader = torch.utils.data.DataLoader(train_dataset, batch_size=4, shuffle=True)\n",
        "valid_loader = torch.utils.data.DataLoader(valid_dataset, batch_size=4, shuffle=False)\n",
        "test_loader = torch.utils.data.DataLoader(test_dataset, batch_size=4, shuffle=False)"
      ],
      "execution_count": null,
      "outputs": []
    },
    {
      "cell_type": "code",
      "metadata": {
        "id": "EjMzBFyweG7z"
      },
      "source": [
        "# use GPU if available\n",
        "device = torch.device(\"cuda:0\" if torch.cuda.is_available() else \"cpu\")\n",
        "device"
      ],
      "execution_count": null,
      "outputs": []
    },
    {
      "cell_type": "code",
      "metadata": {
        "id": "fvYaYJ6oeG77"
      },
      "source": [
        "# load and print the pretrained model\n",
        "model_ft = models.resnet18(pretrained=True)\n",
        "print(model_ft)"
      ],
      "execution_count": null,
      "outputs": []
    },
    {
      "cell_type": "code",
      "metadata": {
        "id": "imLHY9SqRIMn"
      },
      "source": [
        "print(model_ft.layer4[0].conv1.parameters())\n",
        "for param in model_ft.parameters():\n",
        "  param.requires_grad=True"
      ],
      "execution_count": null,
      "outputs": []
    },
    {
      "cell_type": "code",
      "metadata": {
        "id": "wHeAi5XkeG8D"
      },
      "source": [
        "# Change the last layer\n",
        "num_ftrs = model_ft.fc.in_features\n",
        "model_ft.fc = nn.Linear(num_ftrs, 2)"
      ],
      "execution_count": null,
      "outputs": []
    },
    {
      "cell_type": "code",
      "metadata": {
        "id": "d6nhmqdUeG8J"
      },
      "source": [
        "# move the model to GPU if available\n",
        "model_ft = model_ft.to(device)"
      ],
      "execution_count": null,
      "outputs": []
    },
    {
      "cell_type": "code",
      "metadata": {
        "id": "IzSInpg3eG8Q"
      },
      "source": [
        "# loss function and optimizer\n",
        "criterion = nn.CrossEntropyLoss()\n",
        "optimizer = optim.SGD(model_ft.parameters(), lr=0.01)"
      ],
      "execution_count": null,
      "outputs": []
    },
    {
      "cell_type": "code",
      "metadata": {
        "id": "smv6ZXOWeG8Z"
      },
      "source": [
        "# Decay LR by a factor of 0.1 every 7 epochs\n",
        "scheduler = lr_scheduler.StepLR(optimizer, step_size=7, gamma=0.1)"
      ],
      "execution_count": null,
      "outputs": []
    },
    {
      "cell_type": "code",
      "metadata": {
        "id": "fo_Q16QTeG8h"
      },
      "source": [
        "epochs = 2\n",
        " \n",
        "train_mean_losses = []\n",
        "valid_mean_losses = []\n",
        "\n",
        "valid_best_loss = np.inf\n",
        "\n",
        "for i in range(epochs):  \n",
        "    #===============================================================\n",
        "    # training \n",
        "    train_losses = []\n",
        "    \n",
        "    print(\"=========================================================\")\n",
        "    print(\"Epoch {}\".format(i))\n",
        "    \n",
        "    for iteration, batch_data in enumerate(train_loader):\n",
        "        X_batch, y_batch = batch_data\n",
        "        X_batch = X_batch.to(device)\n",
        "        y_batch = y_batch.to(device)\n",
        "        \n",
        "        optimizer.zero_grad()\n",
        "        \n",
        "        out = model_ft(X_batch)\n",
        "        loss = criterion(out, y_batch.squeeze())\n",
        "        \n",
        "        loss.backward()\n",
        "        optimizer.step()\n",
        "        \n",
        "        train_losses.append(loss)\n",
        "    \n",
        "    train_mean_loss = torch.mean(torch.stack(train_losses))\n",
        "    print('training loss: {:10.8f}'.format(train_mean_loss))\n",
        "    \n",
        "    train_mean_losses.append(train_mean_loss)\n",
        "    \n",
        "    #===============================================================\n",
        "    # validation\n",
        "    valid_losses = []\n",
        "    with torch.set_grad_enabled(False):\n",
        "        for iteration, batch_data in enumerate(valid_loader):\n",
        "            X_batch, y_batch = batch_data\n",
        "            X_batch = X_batch.to(device)\n",
        "            y_batch = y_batch.to(device)\n",
        "\n",
        "            out = model_ft(X_batch)\n",
        "            loss = criterion(out, y_batch.squeeze())\n",
        "            valid_losses.append(loss)\n",
        "            \n",
        "        valid_mean_loss = torch.mean(torch.stack(valid_losses))\n",
        "        print('validation loss: {:10.8f}'.format(valid_mean_loss))\n",
        "        \n",
        "        valid_mean_losses.append(valid_mean_loss)\n",
        "        \n",
        "        if valid_mean_loss.cpu().numpy()[()] < valid_best_loss:\n",
        "            valid_best_loss = valid_mean_loss\n",
        "            torch.save(model_ft.state_dict(), \"best_model.pth\")\n",
        "            best_epoch = i\n",
        "    #===============================================================\n",
        "    \n",
        "    scheduler.step()\n",
        "    "
      ],
      "execution_count": null,
      "outputs": []
    },
    {
      "cell_type": "code",
      "metadata": {
        "id": "HQdpEZ3LeG8r"
      },
      "source": [
        "import matplotlib.pyplot as plt\n",
        "\n",
        "plt.plot(range(1,epochs+1), train_mean_losses)\n",
        "plt.plot(range(1,epochs+1), valid_mean_losses)\n",
        "plt.xlabel('epochs')\n",
        "plt.ylabel('loss')\n",
        "plt.title('Train and Validation Loss Plot')\n",
        "plt.show()"
      ],
      "execution_count": null,
      "outputs": []
    },
    {
      "cell_type": "code",
      "metadata": {
        "id": "BoSoj-qleG80"
      },
      "source": [
        "model_ft.load_state_dict(torch.load(\"best_model.pth\"))"
      ],
      "execution_count": null,
      "outputs": []
    },
    {
      "cell_type": "code",
      "metadata": {
        "id": "MP9Tnw80eG87"
      },
      "source": [
        "test_predictions = np.empty((0,2))\n",
        "test_gt = np.empty((0))\n",
        "model_ft = model_ft.to(device)\n",
        "\n",
        "with torch.no_grad():\n",
        "    for iteration, batch_data in enumerate(test_loader):\n",
        "        X_batch, y_batch = batch_data  \n",
        "        X_batch_dev =  X_batch.to(device)\n",
        "        y_batch_dev =  y_batch.to(device)     \n",
        "        out = model_ft(X_batch_dev)\n",
        "        \n",
        "        test_predictions = np.append(test_predictions, out.cpu().numpy(), \n",
        "                                     axis=0)\n",
        "        test_gt = np.append(test_gt, y_batch, \n",
        "                                     axis=0)\n",
        "        \n",
        "\n",
        "from sklearn.metrics import confusion_matrix\n",
        "from sklearn.metrics import accuracy_score\n",
        "from sklearn.metrics import f1_score\n",
        "from sklearn.metrics import classification_report\n",
        "\n",
        "test_predictions = np.array(test_predictions)\n",
        "test_predictions = np.argmax(np.array(test_predictions), axis=1)\n",
        "\n",
        "print(\"=========================================================\\n\")\n",
        "print(\"Predicted Class:\")\n",
        "print(test_predictions)\n",
        "print(\"\\nGround Truth:\")\n",
        "print(test_gt)\n",
        "\n",
        "print(\"\\n=========================================================\\n\")\n",
        "print(\"Confusion Matrix:\")\n",
        "print(confusion_matrix(test_gt, test_predictions))\n",
        "\n",
        "print(\"\\n=========================================================\\n\")\n",
        "accuracy = accuracy_score(test_gt, test_predictions)\n",
        "print(\"Accuracy: {}\".format(accuracy))\n",
        "\n",
        "f1 = f1_score(test_gt, test_predictions, average='macro')\n",
        "print(\"F1 Score: \", f1)\n",
        "\n",
        "print(\"\\n=========================================================\\n\")\n",
        "print(\"Classification Report:\")\n",
        "print(classification_report(test_gt, test_predictions))\n"
      ],
      "execution_count": null,
      "outputs": []
    },
    {
      "cell_type": "code",
      "metadata": {
        "id": "R_mC7wHoeG9F"
      },
      "source": [
        ""
      ],
      "execution_count": null,
      "outputs": []
    }
  ]
}