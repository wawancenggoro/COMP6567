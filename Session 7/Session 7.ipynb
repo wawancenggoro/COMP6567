{
 "cells": [
  {
   "cell_type": "code",
   "execution_count": null,
   "metadata": {},
   "outputs": [],
   "source": [
    "# only run this in google colab to upload data\n",
    "from google.colab import files\n",
    "\n",
    "uploaded = files.upload()\n",
    "\n",
    "for fn in uploaded.keys():\n",
    "  print('User uploaded file \"{name}\" with length {length} bytes'.format(\n",
    "      name=fn, length=len(uploaded[fn])))"
   ]
  },
  {
   "cell_type": "code",
   "execution_count": null,
   "metadata": {},
   "outputs": [],
   "source": [
    "# only run this in google colab to unzip data\n",
    "!unzip data.zip"
   ]
  },
  {
   "cell_type": "code",
   "execution_count": 2,
   "metadata": {},
   "outputs": [
    {
     "data": {
      "text/plain": [
       "<torch._C.Generator at 0x251800cf170>"
      ]
     },
     "execution_count": 2,
     "metadata": {},
     "output_type": "execute_result"
    }
   ],
   "source": [
    "# adopted from https://pytorch.org/tutorials/beginner/transfer_learning_tutorial.html\n",
    "from __future__ import print_function, division\n",
    "\n",
    "import torch\n",
    "import torch.nn as nn\n",
    "import torch.optim as optim\n",
    "from torch.optim import lr_scheduler\n",
    "import numpy as np\n",
    "import torchvision\n",
    "from torchvision import datasets, models, transforms\n",
    "import matplotlib.pyplot as plt\n",
    "import time\n",
    "import os\n",
    "import copy\n",
    "import numpy as np\n",
    "\n",
    "plt.ion()   # interactive mode\n",
    "\n",
    "np.random.seed(1234)\n",
    "torch.manual_seed(1234)"
   ]
  },
  {
   "cell_type": "code",
   "execution_count": 2,
   "metadata": {},
   "outputs": [],
   "source": [
    "# Data Preprocessing\n",
    "train_transform =  transforms.Compose([\n",
    "        # image resizing + data augmentation\n",
    "        transforms.RandomResizedCrop(224),         \n",
    "        # data augmentation\n",
    "        transforms.RandomHorizontalFlip(),         \n",
    "        # convert image to PyTorch Tensor\n",
    "        transforms.ToTensor(),    \n",
    "        # z score normalization\n",
    "        transforms.Normalize([0.485, 0.456, 0.406], [0.229, 0.224, 0.225]) \n",
    "    ])\n",
    "\n",
    "val_test_transform = transforms.Compose([\n",
    "        transforms.Resize(256),\n",
    "        transforms.CenterCrop(224),\n",
    "        transforms.ToTensor(),\n",
    "        transforms.Normalize([0.485, 0.456, 0.406], [0.229, 0.224, 0.225])\n",
    "    ])"
   ]
  },
  {
   "cell_type": "code",
   "execution_count": 3,
   "metadata": {},
   "outputs": [],
   "source": [
    "data_dir = 'data/hymenoptera_data'\n",
    "\n",
    "train_dataset = datasets.ImageFolder(os.path.join(data_dir, 'train'), train_transform)\n",
    "valid_dataset = datasets.ImageFolder(os.path.join(data_dir, 'val'), val_test_transform)\n",
    "test_dataset = datasets.ImageFolder(os.path.join(data_dir, 'test'), val_test_transform)\n",
    "\n",
    "train_loader = torch.utils.data.DataLoader(train_dataset, batch_size=4, shuffle=True)\n",
    "valid_loader = torch.utils.data.DataLoader(valid_dataset, batch_size=4, shuffle=False)\n",
    "test_loader = torch.utils.data.DataLoader(test_dataset, batch_size=4, shuffle=False)"
   ]
  },
  {
   "cell_type": "code",
   "execution_count": 31,
   "metadata": {},
   "outputs": [],
   "source": [
    "# use GPU if available\n",
    "device = torch.device(\"cuda:0\" if torch.cuda.is_available() else \"cpu\")"
   ]
  },
  {
   "cell_type": "code",
   "execution_count": 32,
   "metadata": {},
   "outputs": [],
   "source": [
    "# load and print the pretrained model\n",
    "model_ft = models.resnet18(pretrained=True)\n",
    "# print(model_ft)"
   ]
  },
  {
   "cell_type": "code",
   "execution_count": 33,
   "metadata": {},
   "outputs": [],
   "source": [
    "# Change the last layer\n",
    "num_ftrs = model_ft.fc.in_features\n",
    "model_ft.fc = nn.Linear(num_ftrs, 2)"
   ]
  },
  {
   "cell_type": "code",
   "execution_count": 34,
   "metadata": {},
   "outputs": [],
   "source": [
    "# move the model to GPU if available\n",
    "model_ft = model_ft.to(device)"
   ]
  },
  {
   "cell_type": "code",
   "execution_count": 35,
   "metadata": {},
   "outputs": [],
   "source": [
    "# loss function and optimizer\n",
    "criterion = nn.CrossEntropyLoss()\n",
    "optimizer = optim.SGD(model_ft.parameters(), lr=0.01)"
   ]
  },
  {
   "cell_type": "code",
   "execution_count": 36,
   "metadata": {},
   "outputs": [],
   "source": [
    "# Decay LR by a factor of 0.1 every 7 epochs\n",
    "scheduler = lr_scheduler.StepLR(optimizer_ft, step_size=7, gamma=0.1)"
   ]
  },
  {
   "cell_type": "code",
   "execution_count": 14,
   "metadata": {},
   "outputs": [
    {
     "name": "stdout",
     "output_type": "stream",
     "text": [
      "=========================================================\n",
      "Epoch 0\n",
      "training loss: 0.64080077\n",
      "validation loss: 0.36596727\n",
      "=========================================================\n",
      "Epoch 1\n",
      "training loss: 0.59456068\n",
      "validation loss: 0.71627760\n"
     ]
    }
   ],
   "source": [
    "epochs = 100\n",
    " \n",
    "train_mean_losses = []\n",
    "valid_mean_losses = []\n",
    "\n",
    "valid_best_loss = np.inf\n",
    "\n",
    "for i in range(epochs):  \n",
    "    #===============================================================\n",
    "    # training \n",
    "    train_losses = []\n",
    "    \n",
    "    print(\"=========================================================\")\n",
    "    print(\"Epoch {}\".format(i))\n",
    "    \n",
    "    for iteration, batch_data in enumerate(train_loader):\n",
    "        X_batch, y_batch = batch_data\n",
    "        X_batch = X_batch.to(device)\n",
    "        y_batch = y_batch.to(device)\n",
    "        \n",
    "        optimizer.zero_grad()\n",
    "        \n",
    "        out = model_ft(X_batch)\n",
    "        loss = criterion(out, y_batch.squeeze())\n",
    "        \n",
    "        loss.backward()\n",
    "        optimizer.step()\n",
    "        \n",
    "        train_losses.append(loss)\n",
    "    \n",
    "    train_mean_loss = torch.mean(torch.stack(train_losses))\n",
    "    print('training loss: {:10.8f}'.format(train_mean_loss))\n",
    "    \n",
    "    train_mean_losses.append(train_mean_loss)\n",
    "    \n",
    "    #===============================================================\n",
    "    # validation\n",
    "    valid_losses = []\n",
    "    with torch.set_grad_enabled(False):\n",
    "        for iteration, batch_data in enumerate(valid_loader):\n",
    "            X_batch, y_batch = batch_data\n",
    "            X_batch = X_batch.to(device)\n",
    "            y_batch = y_batch.to(device)\n",
    "\n",
    "            out = model_ft(X_batch)\n",
    "            loss = criterion(out, y_batch.squeeze())\n",
    "            valid_losses.append(loss)\n",
    "            \n",
    "        valid_mean_loss = torch.mean(torch.stack(valid_losses))\n",
    "        print('validation loss: {:10.8f}'.format(valid_mean_loss))\n",
    "        \n",
    "        valid_mean_losses.append(valid_mean_loss)\n",
    "        \n",
    "        if valid_mean_loss.cpu().numpy()[()] < valid_best_loss:\n",
    "            valid_best_loss = valid_mean_loss\n",
    "            torch.save(net.state_dict(), \"best_model.pth\")\n",
    "            best_epoch = i\n",
    "    #===============================================================\n",
    "    \n",
    "    scheduler.step()\n",
    "    "
   ]
  },
  {
   "cell_type": "code",
   "execution_count": 15,
   "metadata": {},
   "outputs": [
    {
     "data": {
      "image/png": "[encoded data removed]",
      "text/plain": [
       "<Figure size 432x288 with 1 Axes>"
      ]
     },
     "metadata": {
      "needs_background": "light"
     },
     "output_type": "display_data"
    }
   ],
   "source": [
    "import matplotlib.pyplot as plt\n",
    "\n",
    "plt.plot(range(1,epochs+1), train_mean_losses)\n",
    "plt.plot(range(1,epochs+1), valid_mean_losses)\n",
    "plt.xlabel('epochs')\n",
    "plt.ylabel('loss')\n",
    "plt.title('Train and Validation Loss Plot')\n",
    "plt.show()"
   ]
  },
  {
   "cell_type": "code",
   "execution_count": 16,
   "metadata": {},
   "outputs": [
    {
     "data": {
      "text/plain": [
       "<All keys matched successfully>"
      ]
     },
     "execution_count": 16,
     "metadata": {},
     "output_type": "execute_result"
    }
   ],
   "source": [
    "net.load_state_dict(torch.load(\"best_model.pth\"))"
   ]
  },
  {
   "cell_type": "code",
   "execution_count": 25,
   "metadata": {},
   "outputs": [
    {
     "name": "stdout",
     "output_type": "stream",
     "text": [
      "=========================================================\n",
      "\n",
      "Predicted Class:\n",
      "[0 1 0 1 0 1 1 1 0 0 0 1 0 1 1 0 0 1 0 1 0 0 1 1 0 0 1 1 0 1 0 1 0 0 1 0 0\n",
      " 0 1 1 1 0 1 1 1 1 0 0 1 0 1 1 1 0 1 1 1 1 0 0 1 1 0 0 1 0 1 0 1 1 0 0 1 1\n",
      " 1 0 1]\n",
      "\n",
      "Ground Truth:\n"
     ]
    },
    {
     "ename": "NameError",
     "evalue": "name 'test_y' is not defined",
     "output_type": "error",
     "traceback": [
      "\u001b[1;31m---------------------------------------------------------------------------\u001b[0m",
      "\u001b[1;31mNameError\u001b[0m                                 Traceback (most recent call last)",
      "\u001b[1;32m<ipython-input-25-52741534c29f>\u001b[0m in \u001b[0;36m<module>\u001b[1;34m\u001b[0m\n\u001b[0;32m     21\u001b[0m \u001b[0mprint\u001b[0m\u001b[1;33m(\u001b[0m\u001b[0mtest_predictions\u001b[0m\u001b[1;33m)\u001b[0m\u001b[1;33m\u001b[0m\u001b[1;33m\u001b[0m\u001b[0m\n\u001b[0;32m     22\u001b[0m \u001b[0mprint\u001b[0m\u001b[1;33m(\u001b[0m\u001b[1;34m\"\\nGround Truth:\"\u001b[0m\u001b[1;33m)\u001b[0m\u001b[1;33m\u001b[0m\u001b[1;33m\u001b[0m\u001b[0m\n\u001b[1;32m---> 23\u001b[1;33m \u001b[0mprint\u001b[0m\u001b[1;33m(\u001b[0m\u001b[0mtest_y\u001b[0m\u001b[1;33m)\u001b[0m\u001b[1;33m\u001b[0m\u001b[1;33m\u001b[0m\u001b[0m\n\u001b[0m\u001b[0;32m     24\u001b[0m \u001b[1;33m\u001b[0m\u001b[0m\n\u001b[0;32m     25\u001b[0m \u001b[0mprint\u001b[0m\u001b[1;33m(\u001b[0m\u001b[1;34m\"\\n=========================================================\\n\"\u001b[0m\u001b[1;33m)\u001b[0m\u001b[1;33m\u001b[0m\u001b[1;33m\u001b[0m\u001b[0m\n",
      "\u001b[1;31mNameError\u001b[0m: name 'test_y' is not defined"
     ]
    }
   ],
   "source": [
    "test_predictions = np.empty((0,2))\n",
    "test_gt = np.empty((2))\n",
    "with torch.no_grad():\n",
    "    for iteration, batch_data in enumerate(test_loader):\n",
    "        X_batch, y_batch = batch_data        \n",
    "        out = net(X_batch)\n",
    "        \n",
    "        test_predictions = np.append(test_predictions, out.numpy(), \n",
    "                                     axis=0)\n",
    "        test_gt = np.append(test_gt, y_batch, \n",
    "                                     axis=0)\n",
    "        \n",
    "\n",
    "from sklearn.metrics import confusion_matrix\n",
    "from sklearn.metrics import accuracy_score\n",
    "from sklearn.metrics import f1_score\n",
    "from sklearn.metrics import classification_report\n",
    "\n",
    "test_predictions = np.array(test_predictions)\n",
    "test_predictions = np.argmax(np.array(test_predictions), axis=1)\n",
    "\n",
    "print(\"=========================================================\\n\")\n",
    "print(\"Predicted Class:\")\n",
    "print(test_predictions)\n",
    "print(\"\\nGround Truth:\")\n",
    "print(test_gt)\n",
    "\n",
    "print(\"\\n=========================================================\\n\")\n",
    "print(\"Confusion Matrix:\")\n",
    "print(confusion_matrix(test_gt, test_predictions))\n",
    "\n",
    "print(\"\\n=========================================================\\n\")\n",
    "accuracy = accuracy_score(test_gt, test_predictions)\n",
    "print(\"Accuracy: {}\".format(accuracy))\n",
    "\n",
    "f1 = f1_score(test_y, test_predictions, average='macro')\n",
    "print(\"F1 Score: \", f1)\n",
    "\n",
    "print(\"\\n=========================================================\\n\")\n",
    "print(\"Classification Report:\")\n",
    "print(classification_report(test_gt, test_predictions))\n"
   ]
  },
  {
   "cell_type": "code",
   "execution_count": 7,
   "metadata": {},
   "outputs": [
    {
     "name": "stdout",
     "output_type": "stream",
     "text": [
      "Just mono files\n"
     ]
    },
    {
     "name": "stderr",
     "output_type": "stream",
     "text": [
      "C:\\Users\\BN000275553\\AppData\\Local\\Continuum\\anaconda3\\envs\\pytorch\\lib\\site-packages\\ipykernel_launcher.py:11: DeprecationWarning: Numeric-style type codes are deprecated and will result in an error in the future.\n",
      "  # This is added back by InteractiveShellApp.init_path()\n",
      "C:\\Users\\BN000275553\\AppData\\Local\\Continuum\\anaconda3\\envs\\pytorch\\lib\\site-packages\\ipykernel_launcher.py:11: DeprecationWarning: The binary mode of fromstring is deprecated, as it behaves surprisingly on unicode inputs. Use frombuffer instead\n",
      "  # This is added back by InteractiveShellApp.init_path()\n"
     ]
    },
    {
     "ename": "SystemExit",
     "evalue": "0",
     "output_type": "error",
     "traceback": [
      "An exception has occurred, use %tb to see the full traceback.\n",
      "\u001b[1;31mSystemExit\u001b[0m\u001b[1;31m:\u001b[0m 0\n"
     ]
    },
    {
     "name": "stderr",
     "output_type": "stream",
     "text": [
      "C:\\Users\\BN000275553\\AppData\\Local\\Continuum\\anaconda3\\envs\\pytorch\\lib\\site-packages\\IPython\\core\\interactiveshell.py:3339: UserWarning: To exit: use 'exit', 'quit', or Ctrl-D.\n",
      "  warn(\"To exit: use 'exit', 'quit', or Ctrl-D.\", stacklevel=1)\n"
     ]
    }
   ],
   "source": [
    "import struct\n",
    "import numpy as np\n",
    "from scipy import signal as sg\n",
    "\n",
    "sampling_rate = 44100                    ## Sampling Rate\n",
    "freq = 440                               ## Frequency (in Hz)\n",
    "samples = 44100                          ## Number of samples \n",
    "x = np.arange(samples)\n",
    "\n",
    "####### sine wave ###########\n",
    "y = 100*np.sin(2 * np.pi * freq * x / sampling_rate)\n",
    "\n",
    "####### square wave ##########\n",
    "# y = 100* sg.square(2 *np.pi * f *x / Fs )\n",
    "\n",
    "####### square wave with Duty Cycle ##########\n",
    "# y = 100* sg.square(2 *np.pi * f *x / Fs , duty = 0.8)\n",
    "\n",
    "####### Sawtooth wave ########\n",
    "# y = 100* sg.sawtooth(2 *np.pi * f *x / Fs )\n",
    "\n",
    "\n",
    "f = open('test.wav','wb')\n",
    "## Instructions to play test.wav on computer\n",
    "## 1. Open as Signed 8-bit on Audacity - Watch Video at https://bit.ly/2YwmN9q for instructions\n",
    "## 2. Or using SoX: play -t raw -r 44.1k -e signed -b 8 -c 1 test.wav\n",
    "\n",
    "for i in y:\n",
    "\tf.write(struct.pack('b',int(i)))\n",
    "f.close()"
   ]
  },
  {
   "cell_type": "code",
   "execution_count": null,
   "metadata": {},
   "outputs": [],
   "source": []
  }
 ],
 "metadata": {
  "kernelspec": {
   "display_name": "Python 3",
   "language": "python",
   "name": "python3"
  }
 },
 "nbformat": 4,
 "nbformat_minor": 4
}
